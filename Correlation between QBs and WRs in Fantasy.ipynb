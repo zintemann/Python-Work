{
 "cells": [
  {
   "cell_type": "code",
   "execution_count": 15,
   "metadata": {
    "collapsed": true
   },
   "outputs": [],
   "source": [
    "import pandas as pd\n",
    "import numpy as np\n",
    "import matplotlib.pyplot as plt\n",
    "%matplotlib inline"
   ]
  },
  {
   "cell_type": "code",
   "execution_count": 16,
   "metadata": {
    "collapsed": true
   },
   "outputs": [],
   "source": [
    "#all data\n",
    "NFL=pd.read_csv(\"NFL by Play 2009-2016.csv\",low_memory=False)"
   ]
  },
  {
   "cell_type": "code",
   "execution_count": 17,
   "metadata": {
    "collapsed": true
   },
   "outputs": [],
   "source": [
    "#2016 only\n",
    "NFL = NFL[NFL['Season']==2016]"
   ]
  },
  {
   "cell_type": "code",
   "execution_count": 18,
   "metadata": {
    "collapsed": true
   },
   "outputs": [],
   "source": [
    "##play attempted\n",
    "NFL = NFL[NFL['PlayAttempted'] ==1]"
   ]
  },
  {
   "cell_type": "code",
   "execution_count": 19,
   "metadata": {},
   "outputs": [
    {
     "data": {
      "text/html": [
       "<div>\n",
       "<style>\n",
       "    .dataframe thead tr:only-child th {\n",
       "        text-align: right;\n",
       "    }\n",
       "\n",
       "    .dataframe thead th {\n",
       "        text-align: left;\n",
       "    }\n",
       "\n",
       "    .dataframe tbody tr th {\n",
       "        vertical-align: top;\n",
       "    }\n",
       "</style>\n",
       "<table border=\"1\" class=\"dataframe\">\n",
       "  <thead>\n",
       "    <tr style=\"text-align: right;\">\n",
       "      <th></th>\n",
       "      <th>Date</th>\n",
       "      <th>GameID</th>\n",
       "      <th>Drive</th>\n",
       "      <th>qtr</th>\n",
       "      <th>down</th>\n",
       "      <th>time</th>\n",
       "      <th>TimeUnder</th>\n",
       "      <th>TimeSecs</th>\n",
       "      <th>PlayTimeDiff</th>\n",
       "      <th>SideofField</th>\n",
       "      <th>...</th>\n",
       "      <th>EPA</th>\n",
       "      <th>airEPA</th>\n",
       "      <th>yacEPA</th>\n",
       "      <th>Home_WP_pre</th>\n",
       "      <th>Away_WP_pre</th>\n",
       "      <th>Home_WP_post</th>\n",
       "      <th>Away_WP_post</th>\n",
       "      <th>Win_Prob</th>\n",
       "      <th>WPA</th>\n",
       "      <th>Season</th>\n",
       "    </tr>\n",
       "  </thead>\n",
       "  <tbody>\n",
       "    <tr>\n",
       "      <th>316712</th>\n",
       "      <td>9/8/2016</td>\n",
       "      <td>2016090800</td>\n",
       "      <td>1</td>\n",
       "      <td>1</td>\n",
       "      <td>1.0</td>\n",
       "      <td>15:00</td>\n",
       "      <td>15</td>\n",
       "      <td>3600.0</td>\n",
       "      <td>0.0</td>\n",
       "      <td>DEN</td>\n",
       "      <td>...</td>\n",
       "      <td>1.061996</td>\n",
       "      <td>-0.690099</td>\n",
       "      <td>1.752096</td>\n",
       "      <td>0.500335</td>\n",
       "      <td>0.499665</td>\n",
       "      <td>0.534418</td>\n",
       "      <td>0.465582</td>\n",
       "      <td>0.500335</td>\n",
       "      <td>0.034083</td>\n",
       "      <td>2016</td>\n",
       "    </tr>\n",
       "    <tr>\n",
       "      <th>316713</th>\n",
       "      <td>9/8/2016</td>\n",
       "      <td>2016090800</td>\n",
       "      <td>1</td>\n",
       "      <td>1</td>\n",
       "      <td>1.0</td>\n",
       "      <td>14:17</td>\n",
       "      <td>15</td>\n",
       "      <td>3557.0</td>\n",
       "      <td>43.0</td>\n",
       "      <td>DEN</td>\n",
       "      <td>...</td>\n",
       "      <td>-0.673142</td>\n",
       "      <td>-0.672303</td>\n",
       "      <td>-0.000839</td>\n",
       "      <td>0.534418</td>\n",
       "      <td>0.465582</td>\n",
       "      <td>0.514323</td>\n",
       "      <td>0.485677</td>\n",
       "      <td>0.534418</td>\n",
       "      <td>-0.020095</td>\n",
       "      <td>2016</td>\n",
       "    </tr>\n",
       "    <tr>\n",
       "      <th>316714</th>\n",
       "      <td>9/8/2016</td>\n",
       "      <td>2016090800</td>\n",
       "      <td>1</td>\n",
       "      <td>1</td>\n",
       "      <td>2.0</td>\n",
       "      <td>14:13</td>\n",
       "      <td>15</td>\n",
       "      <td>3553.0</td>\n",
       "      <td>4.0</td>\n",
       "      <td>DEN</td>\n",
       "      <td>...</td>\n",
       "      <td>-0.977039</td>\n",
       "      <td>-0.425682</td>\n",
       "      <td>-0.551357</td>\n",
       "      <td>0.514323</td>\n",
       "      <td>0.485677</td>\n",
       "      <td>0.485313</td>\n",
       "      <td>0.514687</td>\n",
       "      <td>0.514323</td>\n",
       "      <td>-0.029011</td>\n",
       "      <td>2016</td>\n",
       "    </tr>\n",
       "    <tr>\n",
       "      <th>316715</th>\n",
       "      <td>9/8/2016</td>\n",
       "      <td>2016090800</td>\n",
       "      <td>1</td>\n",
       "      <td>1</td>\n",
       "      <td>3.0</td>\n",
       "      <td>14:08</td>\n",
       "      <td>15</td>\n",
       "      <td>3548.0</td>\n",
       "      <td>5.0</td>\n",
       "      <td>DEN</td>\n",
       "      <td>...</td>\n",
       "      <td>2.642901</td>\n",
       "      <td>2.486235</td>\n",
       "      <td>0.156666</td>\n",
       "      <td>0.485313</td>\n",
       "      <td>0.514687</td>\n",
       "      <td>0.566495</td>\n",
       "      <td>0.433505</td>\n",
       "      <td>0.485313</td>\n",
       "      <td>0.081182</td>\n",
       "      <td>2016</td>\n",
       "    </tr>\n",
       "    <tr>\n",
       "      <th>316716</th>\n",
       "      <td>9/8/2016</td>\n",
       "      <td>2016090800</td>\n",
       "      <td>1</td>\n",
       "      <td>1</td>\n",
       "      <td>1.0</td>\n",
       "      <td>13:42</td>\n",
       "      <td>14</td>\n",
       "      <td>3522.0</td>\n",
       "      <td>26.0</td>\n",
       "      <td>DEN</td>\n",
       "      <td>...</td>\n",
       "      <td>0.134246</td>\n",
       "      <td>-0.025009</td>\n",
       "      <td>0.159255</td>\n",
       "      <td>0.566495</td>\n",
       "      <td>0.433505</td>\n",
       "      <td>0.572501</td>\n",
       "      <td>0.427499</td>\n",
       "      <td>0.566495</td>\n",
       "      <td>0.006006</td>\n",
       "      <td>2016</td>\n",
       "    </tr>\n",
       "  </tbody>\n",
       "</table>\n",
       "<p>5 rows × 100 columns</p>\n",
       "</div>"
      ],
      "text/plain": [
       "            Date      GameID  Drive  qtr  down   time  TimeUnder  TimeSecs  \\\n",
       "316712  9/8/2016  2016090800      1    1   1.0  15:00         15    3600.0   \n",
       "316713  9/8/2016  2016090800      1    1   1.0  14:17         15    3557.0   \n",
       "316714  9/8/2016  2016090800      1    1   2.0  14:13         15    3553.0   \n",
       "316715  9/8/2016  2016090800      1    1   3.0  14:08         15    3548.0   \n",
       "316716  9/8/2016  2016090800      1    1   1.0  13:42         14    3522.0   \n",
       "\n",
       "        PlayTimeDiff SideofField   ...         EPA    airEPA    yacEPA  \\\n",
       "316712           0.0         DEN   ...    1.061996 -0.690099  1.752096   \n",
       "316713          43.0         DEN   ...   -0.673142 -0.672303 -0.000839   \n",
       "316714           4.0         DEN   ...   -0.977039 -0.425682 -0.551357   \n",
       "316715           5.0         DEN   ...    2.642901  2.486235  0.156666   \n",
       "316716          26.0         DEN   ...    0.134246 -0.025009  0.159255   \n",
       "\n",
       "        Home_WP_pre  Away_WP_pre  Home_WP_post Away_WP_post  Win_Prob  \\\n",
       "316712     0.500335     0.499665      0.534418     0.465582  0.500335   \n",
       "316713     0.534418     0.465582      0.514323     0.485677  0.534418   \n",
       "316714     0.514323     0.485677      0.485313     0.514687  0.514323   \n",
       "316715     0.485313     0.514687      0.566495     0.433505  0.485313   \n",
       "316716     0.566495     0.433505      0.572501     0.427499  0.566495   \n",
       "\n",
       "             WPA  Season  \n",
       "316712  0.034083    2016  \n",
       "316713 -0.020095    2016  \n",
       "316714 -0.029011    2016  \n",
       "316715  0.081182    2016  \n",
       "316716  0.006006    2016  \n",
       "\n",
       "[5 rows x 100 columns]"
      ]
     },
     "execution_count": 19,
     "metadata": {},
     "output_type": "execute_result"
    }
   ],
   "source": [
    "##QB bata\n",
    "qbs = NFL[NFL['PlayType'] == 'Pass']\n",
    "qbs.head()"
   ]
  },
  {
   "cell_type": "code",
   "execution_count": 20,
   "metadata": {
    "collapsed": true
   },
   "outputs": [],
   "source": [
    "qbs = qbs.groupby(['Date', 'posteam', 'Passer']).agg({'Yards.Gained' : 'sum', 'Touchdown' : 'sum', 'InterceptionThrown' : 'sum', 'Drive' : 'count' })"
   ]
  },
  {
   "cell_type": "code",
   "execution_count": 21,
   "metadata": {
    "collapsed": true
   },
   "outputs": [],
   "source": [
    "qbs['QB points'] = (qbs['Yards.Gained'] / 25) + (qbs['Touchdown'] * 4) - (qbs['InterceptionThrown'] * 2)"
   ]
  },
  {
   "cell_type": "code",
   "execution_count": 22,
   "metadata": {
    "collapsed": true
   },
   "outputs": [],
   "source": [
    "qbs.reset_index(inplace=True)"
   ]
  },
  {
   "cell_type": "code",
   "execution_count": 23,
   "metadata": {
    "collapsed": true
   },
   "outputs": [],
   "source": [
    "## WR data\n",
    "wrs = NFL[NFL['PlayType'] == 'Pass']"
   ]
  },
  {
   "cell_type": "code",
   "execution_count": 24,
   "metadata": {
    "collapsed": true
   },
   "outputs": [],
   "source": [
    "wrs = wrs.groupby(['Date', 'posteam', 'Receiver']).agg({'Yards.Gained' : 'sum', 'Touchdown' : 'sum', 'Drive' : 'count' })"
   ]
  },
  {
   "cell_type": "code",
   "execution_count": 25,
   "metadata": {
    "collapsed": true
   },
   "outputs": [],
   "source": [
    "wrs['WR points'] = (wrs['Yards.Gained'] / 10) + (wrs['Touchdown'] * 6)"
   ]
  },
  {
   "cell_type": "code",
   "execution_count": 26,
   "metadata": {
    "collapsed": true
   },
   "outputs": [],
   "source": [
    "wrs.reset_index(inplace=True)"
   ]
  },
  {
   "cell_type": "code",
   "execution_count": 27,
   "metadata": {
    "collapsed": true
   },
   "outputs": [],
   "source": [
    "##Merge QB and WR datasets\n",
    "games = pd.merge(qbs, wrs, how='left', left_on=['Date', 'posteam'], right_on=['Date', 'posteam'])"
   ]
  },
  {
   "cell_type": "code",
   "execution_count": 28,
   "metadata": {
    "collapsed": true
   },
   "outputs": [],
   "source": [
    "games = pd.merge(qbs, wrs, how='left', left_on=['Date', 'posteam'], right_on=['Date', 'posteam'])"
   ]
  },
  {
   "cell_type": "code",
   "execution_count": 29,
   "metadata": {},
   "outputs": [
    {
     "data": {
      "text/plain": [
       "43"
      ]
     },
     "execution_count": 29,
     "metadata": {},
     "output_type": "execute_result"
    }
   ],
   "source": [
    "len(games[(games['QB points'] >= 20) & (games['WR points'] >=20)])"
   ]
  },
  {
   "cell_type": "code",
   "execution_count": 30,
   "metadata": {
    "collapsed": true
   },
   "outputs": [],
   "source": [
    "bestplayers = games.groupby(['Date', 'posteam']).agg({'QB points' : 'max', 'WR points' : 'max'})"
   ]
  },
  {
   "cell_type": "code",
   "execution_count": 31,
   "metadata": {},
   "outputs": [
    {
     "data": {
      "text/plain": [
       "<matplotlib.figure.Figure at 0x207ad128>"
      ]
     },
     "metadata": {},
     "output_type": "display_data"
    },
    {
     "data": {
      "image/png": "[encoded data removed]",
      "text/plain": [
       "<matplotlib.figure.Figure at 0x1d8942b0>"
      ]
     },
     "metadata": {},
     "output_type": "display_data"
    }
   ],
   "source": [
    "fig = plt.figure()\n",
    "fig = bestplayers.plot.scatter(x='QB points', y='WR points', c='blue', s=6)\n",
    "fig.set_title('Highest QB and WR Fantasy Points per Team per Game in 2016')\n",
    "plt.savefig(\"fantasy points 1.png\")"
   ]
  },
  {
   "cell_type": "code",
   "execution_count": null,
   "metadata": {
    "collapsed": true
   },
   "outputs": [],
   "source": [
    "#qb with more than 10 pass attempts 14.648625954198478\n",
    "# wr with more than 5 pass attempts 8.679532634971801"
   ]
  }
 ],
 "metadata": {
  "kernelspec": {
   "display_name": "Python 2",
   "language": "python",
   "name": "python2"
  },
  "language_info": {
   "codemirror_mode": {
    "name": "ipython",
    "version": 2
   },
   "file_extension": ".py",
   "mimetype": "text/x-python",
   "name": "python",
   "nbconvert_exporter": "python",
   "pygments_lexer": "ipython2",
   "version": "2.7.13"
  }
 },
 "nbformat": 4,
 "nbformat_minor": 2
}
